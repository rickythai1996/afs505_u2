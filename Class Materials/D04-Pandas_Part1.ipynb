{
 "cells": [
  {
   "cell_type": "markdown",
   "metadata": {},
   "source": [
    "# Lesson 3 Class Exercises: Pandas Part 1"
   ]
  },
  {
   "cell_type": "markdown",
   "metadata": {},
   "source": [
    "## Reminder\n",
    "The first checkin-in of the project is due next Tueday.  After today, you should have everything you need to know to accomplish that first part. "
   ]
  },
  {
   "cell_type": "markdown",
   "metadata": {},
   "source": [
    "## Get Started\n",
    "Import the Numpy and Pandas packages"
   ]
  },
  {
   "cell_type": "code",
   "execution_count": 3,
   "metadata": {},
   "outputs": [],
   "source": [
    "import numpy as np\n",
    "import pandas as pd"
   ]
  },
  {
   "cell_type": "markdown",
   "metadata": {},
   "source": [
    "## Exercise 1: Import Iris Data\n",
    "Import the Iris dataset made available to you in the last class period for the Numpy part2 exercises. Save it to a variable naemd `iris`. Print the first 5 rows and the dimensions to ensure it was read in properly."
   ]
  },
  {
   "cell_type": "code",
   "execution_count": 59,
   "metadata": {},
   "outputs": [
    {
     "data": {
      "text/html": [
       "<div>\n",
       "<style scoped>\n",
       "    .dataframe tbody tr th:only-of-type {\n",
       "        vertical-align: middle;\n",
       "    }\n",
       "\n",
       "    .dataframe tbody tr th {\n",
       "        vertical-align: top;\n",
       "    }\n",
       "\n",
       "    .dataframe thead th {\n",
       "        text-align: right;\n",
       "    }\n",
       "</style>\n",
       "<table border=\"1\" class=\"dataframe\">\n",
       "  <thead>\n",
       "    <tr style=\"text-align: right;\">\n",
       "      <th></th>\n",
       "      <th>sepal_length</th>\n",
       "      <th>sepal_width</th>\n",
       "      <th>petal_length</th>\n",
       "      <th>petal_width</th>\n",
       "      <th>species</th>\n",
       "    </tr>\n",
       "  </thead>\n",
       "  <tbody>\n",
       "    <tr>\n",
       "      <td>0</td>\n",
       "      <td>5.1</td>\n",
       "      <td>3.5</td>\n",
       "      <td>1.4</td>\n",
       "      <td>0.2</td>\n",
       "      <td>setosa</td>\n",
       "    </tr>\n",
       "    <tr>\n",
       "      <td>1</td>\n",
       "      <td>4.9</td>\n",
       "      <td>3.0</td>\n",
       "      <td>1.4</td>\n",
       "      <td>0.2</td>\n",
       "      <td>setosa</td>\n",
       "    </tr>\n",
       "    <tr>\n",
       "      <td>2</td>\n",
       "      <td>4.7</td>\n",
       "      <td>3.2</td>\n",
       "      <td>1.3</td>\n",
       "      <td>0.2</td>\n",
       "      <td>setosa</td>\n",
       "    </tr>\n",
       "    <tr>\n",
       "      <td>3</td>\n",
       "      <td>4.6</td>\n",
       "      <td>3.1</td>\n",
       "      <td>1.5</td>\n",
       "      <td>0.2</td>\n",
       "      <td>setosa</td>\n",
       "    </tr>\n",
       "    <tr>\n",
       "      <td>4</td>\n",
       "      <td>5.0</td>\n",
       "      <td>3.6</td>\n",
       "      <td>1.4</td>\n",
       "      <td>0.2</td>\n",
       "      <td>setosa</td>\n",
       "    </tr>\n",
       "  </tbody>\n",
       "</table>\n",
       "</div>"
      ],
      "text/plain": [
       "   sepal_length  sepal_width  petal_length  petal_width species\n",
       "0           5.1          3.5           1.4          0.2  setosa\n",
       "1           4.9          3.0           1.4          0.2  setosa\n",
       "2           4.7          3.2           1.3          0.2  setosa\n",
       "3           4.6          3.1           1.5          0.2  setosa\n",
       "4           5.0          3.6           1.4          0.2  setosa"
      ]
     },
     "execution_count": 59,
     "metadata": {},
     "output_type": "execute_result"
    }
   ],
   "source": [
    "iris_df = pd.read_csv(\"iris.csv\")\n",
    "\n",
    "iris_df.head()\n"
   ]
  },
  {
   "cell_type": "markdown",
   "metadata": {},
   "source": [
    "Notice how much easier this was to import compared to the Numpy `genfromtxt`. We did not have to skip the headers, we did not have to specify the data type and we can have mixed data types in the same matrix."
   ]
  },
  {
   "cell_type": "markdown",
   "metadata": {},
   "source": [
    "## Exercise 2: Import Legislators Data\n",
    "For portions of this notebook we will use a public dataset that contains all of the current legistators of the United States Congress. This dataset can be found [here](https://github.com/unitedstates/congress-legislators).  \n",
    "\n",
    "Import the data directly from this URL:  https://theunitedstates.io/congress-legislators/legislators-current.csv\n",
    "\n",
    "Save the data in a variable named `legistators`. Print the first 5 lines, and the dimensions."
   ]
  },
  {
   "cell_type": "code",
   "execution_count": 9,
   "metadata": {},
   "outputs": [
    {
     "name": "stdout",
     "output_type": "stream",
     "text": [
      "  last_name first_name middle_name suffix nickname             full_name  \\\n",
      "0     Brown    Sherrod         NaN    NaN      NaN         Sherrod Brown   \n",
      "1  Cantwell      Maria         NaN    NaN      NaN        Maria Cantwell   \n",
      "2    Cardin   Benjamin          L.    NaN      NaN    Benjamin L. Cardin   \n",
      "3    Carper     Thomas     Richard    NaN      NaN      Thomas R. Carper   \n",
      "4     Casey     Robert          P.    Jr.      Bob  Robert P. Casey, Jr.   \n",
      "\n",
      "     birthday gender type state  ...  opensecrets_id  lis_id  \\\n",
      "0  1952-11-09      M  sen    OH  ...       N00003535    S307   \n",
      "1  1958-10-13      F  sen    WA  ...       N00007836    S275   \n",
      "2  1943-10-05      M  sen    MD  ...       N00001955    S308   \n",
      "3  1947-01-23      M  sen    DE  ...       N00012508    S277   \n",
      "4  1960-04-13      M  sen    PA  ...       N00027503    S309   \n",
      "\n",
      "               fec_ids cspan_id govtrack_id votesmart_id  ballotpedia_id  \\\n",
      "0  H2OH13033,S6OH00163   5051.0      400050      27018.0   Sherrod Brown   \n",
      "1  S8WA00194,H2WA01054  26137.0      300018      27122.0  Maria Cantwell   \n",
      "2  H6MD03177,S6MD03177   4004.0      400064      26888.0      Ben Cardin   \n",
      "3            S8DE00079    663.0      300019      22421.0      Tom Carper   \n",
      "4            S6PA00217  47036.0      412246       2541.0  Bob Casey, Jr.   \n",
      "\n",
      "  washington_post_id icpsr_id    wikipedia_id  \n",
      "0                NaN  29389.0   Sherrod Brown  \n",
      "1                NaN  39310.0  Maria Cantwell  \n",
      "2                NaN  15408.0      Ben Cardin  \n",
      "3                NaN  15015.0      Tom Carper  \n",
      "4                NaN  40703.0   Bob Casey Jr.  \n",
      "\n",
      "[5 rows x 34 columns]\n",
      "(536, 34)\n"
     ]
    }
   ],
   "source": [
    "legislator = pd.read_csv(\"https://theunitedstates.io/congress-legislators/legislators-current.csv\")\n",
    "print(legislator.head())\n",
    "print(legislator.shape)"
   ]
  },
  {
   "cell_type": "markdown",
   "metadata": {},
   "source": [
    "## Exercise 3: Explore the Data\n",
    "### Task 1\n",
    "Print the column names of the legistators dataframe and explore the type of data in the data frame. "
   ]
  },
  {
   "cell_type": "code",
   "execution_count": 12,
   "metadata": {},
   "outputs": [
    {
     "data": {
      "text/plain": [
       "Index(['last_name', 'first_name', 'middle_name', 'suffix', 'nickname',\n",
       "       'full_name', 'birthday', 'gender', 'type', 'state', 'district',\n",
       "       'senate_class', 'party', 'url', 'address', 'phone', 'contact_form',\n",
       "       'rss_url', 'twitter', 'facebook', 'youtube', 'youtube_id',\n",
       "       'bioguide_id', 'thomas_id', 'opensecrets_id', 'lis_id', 'fec_ids',\n",
       "       'cspan_id', 'govtrack_id', 'votesmart_id', 'ballotpedia_id',\n",
       "       'washington_post_id', 'icpsr_id', 'wikipedia_id'],\n",
       "      dtype='object')"
      ]
     },
     "execution_count": 12,
     "metadata": {},
     "output_type": "execute_result"
    }
   ],
   "source": [
    "legislator.columns"
   ]
  },
  {
   "cell_type": "markdown",
   "metadata": {},
   "source": [
    "### Task 2\n",
    "Show the datatypes of all of the columns in the legislator data. Do all of the data types seem appropriate for the data? "
   ]
  },
  {
   "cell_type": "code",
   "execution_count": 14,
   "metadata": {},
   "outputs": [
    {
     "data": {
      "text/plain": [
       "RangeIndex(start=0, stop=536, step=1)"
      ]
     },
     "execution_count": 14,
     "metadata": {},
     "output_type": "execute_result"
    }
   ],
   "source": [
    "legislator.index "
   ]
  },
  {
   "cell_type": "markdown",
   "metadata": {},
   "source": [
    "Show all of the datayptes in the iris dataframe"
   ]
  },
  {
   "cell_type": "code",
   "execution_count": 16,
   "metadata": {},
   "outputs": [
    {
     "data": {
      "text/plain": [
       "last_name              object\n",
       "first_name             object\n",
       "middle_name            object\n",
       "suffix                 object\n",
       "nickname               object\n",
       "full_name              object\n",
       "birthday               object\n",
       "gender                 object\n",
       "type                   object\n",
       "state                  object\n",
       "district              float64\n",
       "senate_class          float64\n",
       "party                  object\n",
       "url                    object\n",
       "address                object\n",
       "phone                  object\n",
       "contact_form           object\n",
       "rss_url                object\n",
       "twitter                object\n",
       "facebook               object\n",
       "youtube                object\n",
       "youtube_id             object\n",
       "bioguide_id            object\n",
       "thomas_id             float64\n",
       "opensecrets_id         object\n",
       "lis_id                 object\n",
       "fec_ids                object\n",
       "cspan_id              float64\n",
       "govtrack_id             int64\n",
       "votesmart_id          float64\n",
       "ballotpedia_id         object\n",
       "washington_post_id    float64\n",
       "icpsr_id              float64\n",
       "wikipedia_id           object\n",
       "dtype: object"
      ]
     },
     "execution_count": 16,
     "metadata": {},
     "output_type": "execute_result"
    }
   ],
   "source": [
    "legislator.dtypes"
   ]
  },
  {
   "cell_type": "code",
   "execution_count": 18,
   "metadata": {},
   "outputs": [
    {
     "data": {
      "text/plain": [
       "sepal_length    float64\n",
       "sepal_width     float64\n",
       "petal_length    float64\n",
       "petal_width     float64\n",
       "species          object\n",
       "dtype: object"
      ]
     },
     "execution_count": 18,
     "metadata": {},
     "output_type": "execute_result"
    }
   ],
   "source": [
    "iris.dtypes"
   ]
  },
  {
   "cell_type": "markdown",
   "metadata": {},
   "source": [
    "### Task 3\n",
    "It's always important to know where the missing values are in your data. Are there any missing values in the legislators dataframe? How many per column?  \n",
    "\n",
    "Hint: we didn't learn how to find missing values in the lesson, but we can use the `isna()` function."
   ]
  },
  {
   "cell_type": "code",
   "execution_count": 19,
   "metadata": {},
   "outputs": [
    {
     "data": {
      "text/plain": [
       "last_name               0\n",
       "first_name              0\n",
       "middle_name           340\n",
       "suffix                518\n",
       "nickname              508\n",
       "full_name               0\n",
       "birthday                0\n",
       "gender                  0\n",
       "type                    0\n",
       "state                   0\n",
       "district              100\n",
       "senate_class          436\n",
       "party                   0\n",
       "url                     0\n",
       "address                 0\n",
       "phone                   0\n",
       "contact_form          435\n",
       "rss_url               245\n",
       "twitter                 8\n",
       "facebook              111\n",
       "youtube               229\n",
       "youtube_id            140\n",
       "bioguide_id             0\n",
       "thomas_id             160\n",
       "opensecrets_id          1\n",
       "lis_id                436\n",
       "fec_ids                 0\n",
       "cspan_id              102\n",
       "govtrack_id             0\n",
       "votesmart_id           19\n",
       "ballotpedia_id        213\n",
       "washington_post_id    536\n",
       "icpsr_id                7\n",
       "wikipedia_id            0\n",
       "dtype: int64"
      ]
     },
     "execution_count": 19,
     "metadata": {},
     "output_type": "execute_result"
    }
   ],
   "source": [
    "legislator.isna().sum()\n",
    "\n"
   ]
  },
  {
   "cell_type": "markdown",
   "metadata": {},
   "source": [
    "How about in the iris dataframe?"
   ]
  },
  {
   "cell_type": "code",
   "execution_count": 21,
   "metadata": {},
   "outputs": [
    {
     "data": {
      "text/plain": [
       "sepal_length    0\n",
       "sepal_width     0\n",
       "petal_length    0\n",
       "petal_width     0\n",
       "species         0\n",
       "dtype: int64"
      ]
     },
     "execution_count": 21,
     "metadata": {},
     "output_type": "execute_result"
    }
   ],
   "source": [
    "iris.isna().sum()"
   ]
  },
  {
   "cell_type": "markdown",
   "metadata": {},
   "source": [
    "### Task 4\n",
    "It is also important to know if you have any duplicatd rows. If you are performing statistcal analyses and you have duplicated entries they can affect the results.  So, let's find out.  Are there any duplicated rows in the legislators dataframe?  Print then number of duplicates. If there are duplicates print the rows. What function could we used to find out if we have duplicated rows?"
   ]
  },
  {
   "cell_type": "code",
   "execution_count": 1,
   "metadata": {},
   "outputs": [
    {
     "ename": "NameError",
     "evalue": "name 'legislator' is not defined",
     "output_type": "error",
     "traceback": [
      "\u001b[0;31m---------------------------------------------------------------------------\u001b[0m",
      "\u001b[0;31mNameError\u001b[0m                                 Traceback (most recent call last)",
      "\u001b[0;32m<ipython-input-1-fd5a812abd06>\u001b[0m in \u001b[0;36m<module>\u001b[0;34m\u001b[0m\n\u001b[0;32m----> 1\u001b[0;31m \u001b[0mprint\u001b[0m\u001b[0;34m(\u001b[0m\u001b[0mlegislator\u001b[0m\u001b[0;34m[\u001b[0m\u001b[0mlegislator\u001b[0m\u001b[0;34m.\u001b[0m\u001b[0mduplicated\u001b[0m\u001b[0;34m(\u001b[0m\u001b[0;34m)\u001b[0m\u001b[0;34m]\u001b[0m\u001b[0;34m)\u001b[0m\u001b[0;34m\u001b[0m\u001b[0;34m\u001b[0m\u001b[0m\n\u001b[0m",
      "\u001b[0;31mNameError\u001b[0m: name 'legislator' is not defined"
     ]
    }
   ],
   "source": [
    "print(legislator[legislator.duplicated()])"
   ]
  },
  {
   "cell_type": "markdown",
   "metadata": {},
   "source": [
    "Do we have duplicated rows in the iris dataset? Print the number of duplicates? If there are duplicates print the rows."
   ]
  },
  {
   "cell_type": "code",
   "execution_count": 32,
   "metadata": {},
   "outputs": [
    {
     "name": "stdout",
     "output_type": "stream",
     "text": [
      "3\n"
     ]
    }
   ],
   "source": [
    "print(iris.duplicated().sum())"
   ]
  },
  {
   "cell_type": "code",
   "execution_count": null,
   "metadata": {},
   "outputs": [],
   "source": [
    "# They are there for a reason"
   ]
  },
  {
   "cell_type": "markdown",
   "metadata": {},
   "source": [
    "If there are duplicated rows should we remove them or keep them?"
   ]
  },
  {
   "cell_type": "markdown",
   "metadata": {},
   "source": [
    "### Task 5\n",
    "It is important to also check that the range of values in our data matches expectations.  For example, if we expect to have four species in our iris data, we should check that we see four species. How many political parties should we expect in the legislators data?  If all we saw were a single part perhaps the data is incomplete.... Let's check.   You can find out how many unique values there are per column using the `nunique` function.  Try it for both the legislators and the iris data set."
   ]
  },
  {
   "cell_type": "code",
   "execution_count": 33,
   "metadata": {},
   "outputs": [
    {
     "data": {
      "text/plain": [
       "last_name             488\n",
       "first_name            317\n",
       "middle_name            59\n",
       "suffix                  4\n",
       "nickname               21\n",
       "full_name             536\n",
       "birthday              529\n",
       "gender                  2\n",
       "type                    2\n",
       "state                  56\n",
       "district               53\n",
       "senate_class            3\n",
       "party                   3\n",
       "url                   536\n",
       "address               536\n",
       "phone                 536\n",
       "contact_form          101\n",
       "rss_url               290\n",
       "twitter               528\n",
       "facebook              425\n",
       "youtube               307\n",
       "youtube_id            396\n",
       "bioguide_id           536\n",
       "thomas_id             376\n",
       "opensecrets_id        535\n",
       "lis_id                100\n",
       "fec_ids               536\n",
       "cspan_id              434\n",
       "govtrack_id           536\n",
       "votesmart_id          517\n",
       "ballotpedia_id        323\n",
       "washington_post_id      0\n",
       "icpsr_id              529\n",
       "wikipedia_id          536\n",
       "dtype: int64"
      ]
     },
     "execution_count": 33,
     "metadata": {},
     "output_type": "execute_result"
    }
   ],
   "source": [
    "legislator.nunique()"
   ]
  },
  {
   "cell_type": "code",
   "execution_count": 34,
   "metadata": {},
   "outputs": [
    {
     "data": {
      "text/plain": [
       "sepal_length    35\n",
       "sepal_width     23\n",
       "petal_length    43\n",
       "petal_width     22\n",
       "species          3\n",
       "dtype: int64"
      ]
     },
     "execution_count": 34,
     "metadata": {},
     "output_type": "execute_result"
    }
   ],
   "source": [
    "iris.nunique()"
   ]
  },
  {
   "cell_type": "markdown",
   "metadata": {},
   "source": [
    "What do you think?  Do we see what we might expect?  Are there fields where this type of check doesn't matter? In what fields might this type of exploration matter?"
   ]
  },
  {
   "cell_type": "markdown",
   "metadata": {},
   "source": [
    "Check to see if you have all of the values expected for a given field. Pick a column you know should have a set number of values and print all of the unique values in that column. Do so for both the legislator and iris datasets."
   ]
  },
  {
   "cell_type": "code",
   "execution_count": 51,
   "metadata": {},
   "outputs": [
    {
     "data": {
      "text/plain": [
       "array(['M', 'F'], dtype=object)"
      ]
     },
     "execution_count": 51,
     "metadata": {},
     "output_type": "execute_result"
    }
   ],
   "source": [
    "legislator['gender'].unique()"
   ]
  },
  {
   "cell_type": "code",
   "execution_count": 48,
   "metadata": {},
   "outputs": [
    {
     "data": {
      "text/plain": [
       "last_name                                                     Feinstein\n",
       "first_name                                                       Dianne\n",
       "middle_name                                                         NaN\n",
       "suffix                                                              NaN\n",
       "nickname                                                            NaN\n",
       "full_name                                              Dianne Feinstein\n",
       "birthday                                                     1933-06-22\n",
       "gender                                                                F\n",
       "type                                                                sen\n",
       "state                                                                CA\n",
       "district                                                            NaN\n",
       "senate_class                                                          1\n",
       "party                                                          Democrat\n",
       "url                                    https://www.feinstein.senate.gov\n",
       "address               331 Hart Senate Office Building Washington DC ...\n",
       "phone                                                      202-224-3841\n",
       "contact_form          https://www.feinstein.senate.gov/public/index....\n",
       "rss_url               http://www.feinstein.senate.gov/public/?a=rss....\n",
       "twitter                                                    SenFeinstein\n",
       "facebook                                               senatorfeinstein\n",
       "youtube                                                SenatorFeinstein\n",
       "youtube_id                                     UCtVC--6LR0ff2aOP8THpuEw\n",
       "bioguide_id                                                     F000062\n",
       "thomas_id                                                          1332\n",
       "opensecrets_id                                                N00007364\n",
       "lis_id                                                             S221\n",
       "fec_ids                                                       S0CA00199\n",
       "cspan_id                                                          13061\n",
       "govtrack_id                                                      300043\n",
       "votesmart_id                                                      53273\n",
       "ballotpedia_id                                         Dianne Feinstein\n",
       "washington_post_id                                                  NaN\n",
       "icpsr_id                                                          49300\n",
       "wikipedia_id                                           Dianne Feinstein\n",
       "Name: 5, dtype: object"
      ]
     },
     "execution_count": 48,
     "metadata": {},
     "output_type": "execute_result"
    }
   ],
   "source": [
    "legislator.iloc[5]"
   ]
  },
  {
   "cell_type": "markdown",
   "metadata": {},
   "source": [
    "## Exercise 5: Describe the data\n",
    "For both the legislators and the iris data, get descriptive statistics for each numeric field."
   ]
  },
  {
   "cell_type": "code",
   "execution_count": 52,
   "metadata": {},
   "outputs": [
    {
     "data": {
      "text/html": [
       "<div>\n",
       "<style scoped>\n",
       "    .dataframe tbody tr th:only-of-type {\n",
       "        vertical-align: middle;\n",
       "    }\n",
       "\n",
       "    .dataframe tbody tr th {\n",
       "        vertical-align: top;\n",
       "    }\n",
       "\n",
       "    .dataframe thead th {\n",
       "        text-align: right;\n",
       "    }\n",
       "</style>\n",
       "<table border=\"1\" class=\"dataframe\">\n",
       "  <thead>\n",
       "    <tr style=\"text-align: right;\">\n",
       "      <th></th>\n",
       "      <th>district</th>\n",
       "      <th>senate_class</th>\n",
       "      <th>thomas_id</th>\n",
       "      <th>cspan_id</th>\n",
       "      <th>govtrack_id</th>\n",
       "      <th>votesmart_id</th>\n",
       "      <th>washington_post_id</th>\n",
       "      <th>icpsr_id</th>\n",
       "    </tr>\n",
       "  </thead>\n",
       "  <tbody>\n",
       "    <tr>\n",
       "      <td>count</td>\n",
       "      <td>436.000000</td>\n",
       "      <td>100.000000</td>\n",
       "      <td>376.000000</td>\n",
       "      <td>4.340000e+02</td>\n",
       "      <td>536.000000</td>\n",
       "      <td>517.000000</td>\n",
       "      <td>0.0</td>\n",
       "      <td>529.000000</td>\n",
       "    </tr>\n",
       "    <tr>\n",
       "      <td>mean</td>\n",
       "      <td>9.869266</td>\n",
       "      <td>2.010000</td>\n",
       "      <td>1749.191489</td>\n",
       "      <td>5.373331e+05</td>\n",
       "      <td>405232.339552</td>\n",
       "      <td>74484.537718</td>\n",
       "      <td>NaN</td>\n",
       "      <td>24147.979206</td>\n",
       "    </tr>\n",
       "    <tr>\n",
       "      <td>std</td>\n",
       "      <td>10.478171</td>\n",
       "      <td>0.822598</td>\n",
       "      <td>543.343825</td>\n",
       "      <td>1.467798e+06</td>\n",
       "      <td>22470.871879</td>\n",
       "      <td>61365.127579</td>\n",
       "      <td>NaN</td>\n",
       "      <td>7397.835690</td>\n",
       "    </tr>\n",
       "    <tr>\n",
       "      <td>min</td>\n",
       "      <td>0.000000</td>\n",
       "      <td>1.000000</td>\n",
       "      <td>91.000000</td>\n",
       "      <td>5.000000e+00</td>\n",
       "      <td>300002.000000</td>\n",
       "      <td>119.000000</td>\n",
       "      <td>NaN</td>\n",
       "      <td>14066.000000</td>\n",
       "    </tr>\n",
       "    <tr>\n",
       "      <td>25%</td>\n",
       "      <td>3.000000</td>\n",
       "      <td>1.000000</td>\n",
       "      <td>1600.500000</td>\n",
       "      <td>4.552275e+04</td>\n",
       "      <td>400642.500000</td>\n",
       "      <td>24046.000000</td>\n",
       "      <td>NaN</td>\n",
       "      <td>21110.000000</td>\n",
       "    </tr>\n",
       "    <tr>\n",
       "      <td>50%</td>\n",
       "      <td>6.000000</td>\n",
       "      <td>2.000000</td>\n",
       "      <td>1926.000000</td>\n",
       "      <td>7.964150e+04</td>\n",
       "      <td>412513.500000</td>\n",
       "      <td>51522.000000</td>\n",
       "      <td>NaN</td>\n",
       "      <td>21561.000000</td>\n",
       "    </tr>\n",
       "    <tr>\n",
       "      <td>75%</td>\n",
       "      <td>13.000000</td>\n",
       "      <td>3.000000</td>\n",
       "      <td>2126.250000</td>\n",
       "      <td>1.003305e+06</td>\n",
       "      <td>412701.250000</td>\n",
       "      <td>134948.000000</td>\n",
       "      <td>NaN</td>\n",
       "      <td>21970.000000</td>\n",
       "    </tr>\n",
       "    <tr>\n",
       "      <td>max</td>\n",
       "      <td>53.000000</td>\n",
       "      <td>3.000000</td>\n",
       "      <td>2296.000000</td>\n",
       "      <td>9.275683e+06</td>\n",
       "      <td>456790.000000</td>\n",
       "      <td>182310.000000</td>\n",
       "      <td>NaN</td>\n",
       "      <td>94659.000000</td>\n",
       "    </tr>\n",
       "  </tbody>\n",
       "</table>\n",
       "</div>"
      ],
      "text/plain": [
       "         district  senate_class    thomas_id      cspan_id    govtrack_id  \\\n",
       "count  436.000000    100.000000   376.000000  4.340000e+02     536.000000   \n",
       "mean     9.869266      2.010000  1749.191489  5.373331e+05  405232.339552   \n",
       "std     10.478171      0.822598   543.343825  1.467798e+06   22470.871879   \n",
       "min      0.000000      1.000000    91.000000  5.000000e+00  300002.000000   \n",
       "25%      3.000000      1.000000  1600.500000  4.552275e+04  400642.500000   \n",
       "50%      6.000000      2.000000  1926.000000  7.964150e+04  412513.500000   \n",
       "75%     13.000000      3.000000  2126.250000  1.003305e+06  412701.250000   \n",
       "max     53.000000      3.000000  2296.000000  9.275683e+06  456790.000000   \n",
       "\n",
       "        votesmart_id  washington_post_id      icpsr_id  \n",
       "count     517.000000                 0.0    529.000000  \n",
       "mean    74484.537718                 NaN  24147.979206  \n",
       "std     61365.127579                 NaN   7397.835690  \n",
       "min       119.000000                 NaN  14066.000000  \n",
       "25%     24046.000000                 NaN  21110.000000  \n",
       "50%     51522.000000                 NaN  21561.000000  \n",
       "75%    134948.000000                 NaN  21970.000000  \n",
       "max    182310.000000                 NaN  94659.000000  "
      ]
     },
     "execution_count": 52,
     "metadata": {},
     "output_type": "execute_result"
    }
   ],
   "source": [
    "legislator.describe()"
   ]
  },
  {
   "cell_type": "code",
   "execution_count": 53,
   "metadata": {},
   "outputs": [
    {
     "data": {
      "text/html": [
       "<div>\n",
       "<style scoped>\n",
       "    .dataframe tbody tr th:only-of-type {\n",
       "        vertical-align: middle;\n",
       "    }\n",
       "\n",
       "    .dataframe tbody tr th {\n",
       "        vertical-align: top;\n",
       "    }\n",
       "\n",
       "    .dataframe thead th {\n",
       "        text-align: right;\n",
       "    }\n",
       "</style>\n",
       "<table border=\"1\" class=\"dataframe\">\n",
       "  <thead>\n",
       "    <tr style=\"text-align: right;\">\n",
       "      <th></th>\n",
       "      <th>sepal_length</th>\n",
       "      <th>sepal_width</th>\n",
       "      <th>petal_length</th>\n",
       "      <th>petal_width</th>\n",
       "    </tr>\n",
       "  </thead>\n",
       "  <tbody>\n",
       "    <tr>\n",
       "      <td>count</td>\n",
       "      <td>150.000000</td>\n",
       "      <td>150.000000</td>\n",
       "      <td>150.000000</td>\n",
       "      <td>150.000000</td>\n",
       "    </tr>\n",
       "    <tr>\n",
       "      <td>mean</td>\n",
       "      <td>5.843333</td>\n",
       "      <td>3.054000</td>\n",
       "      <td>3.758667</td>\n",
       "      <td>1.198667</td>\n",
       "    </tr>\n",
       "    <tr>\n",
       "      <td>std</td>\n",
       "      <td>0.828066</td>\n",
       "      <td>0.433594</td>\n",
       "      <td>1.764420</td>\n",
       "      <td>0.763161</td>\n",
       "    </tr>\n",
       "    <tr>\n",
       "      <td>min</td>\n",
       "      <td>4.300000</td>\n",
       "      <td>2.000000</td>\n",
       "      <td>1.000000</td>\n",
       "      <td>0.100000</td>\n",
       "    </tr>\n",
       "    <tr>\n",
       "      <td>25%</td>\n",
       "      <td>5.100000</td>\n",
       "      <td>2.800000</td>\n",
       "      <td>1.600000</td>\n",
       "      <td>0.300000</td>\n",
       "    </tr>\n",
       "    <tr>\n",
       "      <td>50%</td>\n",
       "      <td>5.800000</td>\n",
       "      <td>3.000000</td>\n",
       "      <td>4.350000</td>\n",
       "      <td>1.300000</td>\n",
       "    </tr>\n",
       "    <tr>\n",
       "      <td>75%</td>\n",
       "      <td>6.400000</td>\n",
       "      <td>3.300000</td>\n",
       "      <td>5.100000</td>\n",
       "      <td>1.800000</td>\n",
       "    </tr>\n",
       "    <tr>\n",
       "      <td>max</td>\n",
       "      <td>7.900000</td>\n",
       "      <td>4.400000</td>\n",
       "      <td>6.900000</td>\n",
       "      <td>2.500000</td>\n",
       "    </tr>\n",
       "  </tbody>\n",
       "</table>\n",
       "</div>"
      ],
      "text/plain": [
       "       sepal_length  sepal_width  petal_length  petal_width\n",
       "count    150.000000   150.000000    150.000000   150.000000\n",
       "mean       5.843333     3.054000      3.758667     1.198667\n",
       "std        0.828066     0.433594      1.764420     0.763161\n",
       "min        4.300000     2.000000      1.000000     0.100000\n",
       "25%        5.100000     2.800000      1.600000     0.300000\n",
       "50%        5.800000     3.000000      4.350000     1.300000\n",
       "75%        6.400000     3.300000      5.100000     1.800000\n",
       "max        7.900000     4.400000      6.900000     2.500000"
      ]
     },
     "execution_count": 53,
     "metadata": {},
     "output_type": "execute_result"
    }
   ],
   "source": [
    "iris.describe()"
   ]
  },
  {
   "cell_type": "markdown",
   "metadata": {},
   "source": [
    "## Exercise 6: Row Index Labels\n",
    "For the legislator dataframe, let's change the row labels from numerical indexes to something more recognizable.  Take a look at the columns of data, is there anything you might want to substitue as a row label?  Pick one and set the index lables. Then print the top 5 rows to see if the index labels are present."
   ]
  },
  {
   "cell_type": "code",
   "execution_count": 57,
   "metadata": {},
   "outputs": [
    {
     "data": {
      "text/html": [
       "<div>\n",
       "<style scoped>\n",
       "    .dataframe tbody tr th:only-of-type {\n",
       "        vertical-align: middle;\n",
       "    }\n",
       "\n",
       "    .dataframe tbody tr th {\n",
       "        vertical-align: top;\n",
       "    }\n",
       "\n",
       "    .dataframe thead th {\n",
       "        text-align: right;\n",
       "    }\n",
       "</style>\n",
       "<table border=\"1\" class=\"dataframe\">\n",
       "  <thead>\n",
       "    <tr style=\"text-align: right;\">\n",
       "      <th></th>\n",
       "      <th>last_name</th>\n",
       "      <th>first_name</th>\n",
       "      <th>middle_name</th>\n",
       "      <th>suffix</th>\n",
       "      <th>nickname</th>\n",
       "      <th>full_name</th>\n",
       "      <th>birthday</th>\n",
       "      <th>gender</th>\n",
       "      <th>type</th>\n",
       "      <th>state</th>\n",
       "      <th>...</th>\n",
       "      <th>opensecrets_id</th>\n",
       "      <th>lis_id</th>\n",
       "      <th>fec_ids</th>\n",
       "      <th>cspan_id</th>\n",
       "      <th>govtrack_id</th>\n",
       "      <th>votesmart_id</th>\n",
       "      <th>ballotpedia_id</th>\n",
       "      <th>washington_post_id</th>\n",
       "      <th>icpsr_id</th>\n",
       "      <th>wikipedia_id</th>\n",
       "    </tr>\n",
       "    <tr>\n",
       "      <th>party</th>\n",
       "      <th></th>\n",
       "      <th></th>\n",
       "      <th></th>\n",
       "      <th></th>\n",
       "      <th></th>\n",
       "      <th></th>\n",
       "      <th></th>\n",
       "      <th></th>\n",
       "      <th></th>\n",
       "      <th></th>\n",
       "      <th></th>\n",
       "      <th></th>\n",
       "      <th></th>\n",
       "      <th></th>\n",
       "      <th></th>\n",
       "      <th></th>\n",
       "      <th></th>\n",
       "      <th></th>\n",
       "      <th></th>\n",
       "      <th></th>\n",
       "      <th></th>\n",
       "    </tr>\n",
       "  </thead>\n",
       "  <tbody>\n",
       "    <tr>\n",
       "      <td>Democrat</td>\n",
       "      <td>Brown</td>\n",
       "      <td>Sherrod</td>\n",
       "      <td>NaN</td>\n",
       "      <td>NaN</td>\n",
       "      <td>NaN</td>\n",
       "      <td>Sherrod Brown</td>\n",
       "      <td>1952-11-09</td>\n",
       "      <td>M</td>\n",
       "      <td>sen</td>\n",
       "      <td>OH</td>\n",
       "      <td>...</td>\n",
       "      <td>N00003535</td>\n",
       "      <td>S307</td>\n",
       "      <td>H2OH13033,S6OH00163</td>\n",
       "      <td>5051.0</td>\n",
       "      <td>400050</td>\n",
       "      <td>27018.0</td>\n",
       "      <td>Sherrod Brown</td>\n",
       "      <td>NaN</td>\n",
       "      <td>29389.0</td>\n",
       "      <td>Sherrod Brown</td>\n",
       "    </tr>\n",
       "    <tr>\n",
       "      <td>Democrat</td>\n",
       "      <td>Cantwell</td>\n",
       "      <td>Maria</td>\n",
       "      <td>NaN</td>\n",
       "      <td>NaN</td>\n",
       "      <td>NaN</td>\n",
       "      <td>Maria Cantwell</td>\n",
       "      <td>1958-10-13</td>\n",
       "      <td>F</td>\n",
       "      <td>sen</td>\n",
       "      <td>WA</td>\n",
       "      <td>...</td>\n",
       "      <td>N00007836</td>\n",
       "      <td>S275</td>\n",
       "      <td>S8WA00194,H2WA01054</td>\n",
       "      <td>26137.0</td>\n",
       "      <td>300018</td>\n",
       "      <td>27122.0</td>\n",
       "      <td>Maria Cantwell</td>\n",
       "      <td>NaN</td>\n",
       "      <td>39310.0</td>\n",
       "      <td>Maria Cantwell</td>\n",
       "    </tr>\n",
       "    <tr>\n",
       "      <td>Democrat</td>\n",
       "      <td>Cardin</td>\n",
       "      <td>Benjamin</td>\n",
       "      <td>L.</td>\n",
       "      <td>NaN</td>\n",
       "      <td>NaN</td>\n",
       "      <td>Benjamin L. Cardin</td>\n",
       "      <td>1943-10-05</td>\n",
       "      <td>M</td>\n",
       "      <td>sen</td>\n",
       "      <td>MD</td>\n",
       "      <td>...</td>\n",
       "      <td>N00001955</td>\n",
       "      <td>S308</td>\n",
       "      <td>H6MD03177,S6MD03177</td>\n",
       "      <td>4004.0</td>\n",
       "      <td>400064</td>\n",
       "      <td>26888.0</td>\n",
       "      <td>Ben Cardin</td>\n",
       "      <td>NaN</td>\n",
       "      <td>15408.0</td>\n",
       "      <td>Ben Cardin</td>\n",
       "    </tr>\n",
       "    <tr>\n",
       "      <td>Democrat</td>\n",
       "      <td>Carper</td>\n",
       "      <td>Thomas</td>\n",
       "      <td>Richard</td>\n",
       "      <td>NaN</td>\n",
       "      <td>NaN</td>\n",
       "      <td>Thomas R. Carper</td>\n",
       "      <td>1947-01-23</td>\n",
       "      <td>M</td>\n",
       "      <td>sen</td>\n",
       "      <td>DE</td>\n",
       "      <td>...</td>\n",
       "      <td>N00012508</td>\n",
       "      <td>S277</td>\n",
       "      <td>S8DE00079</td>\n",
       "      <td>663.0</td>\n",
       "      <td>300019</td>\n",
       "      <td>22421.0</td>\n",
       "      <td>Tom Carper</td>\n",
       "      <td>NaN</td>\n",
       "      <td>15015.0</td>\n",
       "      <td>Tom Carper</td>\n",
       "    </tr>\n",
       "    <tr>\n",
       "      <td>Democrat</td>\n",
       "      <td>Casey</td>\n",
       "      <td>Robert</td>\n",
       "      <td>P.</td>\n",
       "      <td>Jr.</td>\n",
       "      <td>Bob</td>\n",
       "      <td>Robert P. Casey, Jr.</td>\n",
       "      <td>1960-04-13</td>\n",
       "      <td>M</td>\n",
       "      <td>sen</td>\n",
       "      <td>PA</td>\n",
       "      <td>...</td>\n",
       "      <td>N00027503</td>\n",
       "      <td>S309</td>\n",
       "      <td>S6PA00217</td>\n",
       "      <td>47036.0</td>\n",
       "      <td>412246</td>\n",
       "      <td>2541.0</td>\n",
       "      <td>Bob Casey, Jr.</td>\n",
       "      <td>NaN</td>\n",
       "      <td>40703.0</td>\n",
       "      <td>Bob Casey Jr.</td>\n",
       "    </tr>\n",
       "    <tr>\n",
       "      <td>Democrat</td>\n",
       "      <td>Feinstein</td>\n",
       "      <td>Dianne</td>\n",
       "      <td>NaN</td>\n",
       "      <td>NaN</td>\n",
       "      <td>NaN</td>\n",
       "      <td>Dianne Feinstein</td>\n",
       "      <td>1933-06-22</td>\n",
       "      <td>F</td>\n",
       "      <td>sen</td>\n",
       "      <td>CA</td>\n",
       "      <td>...</td>\n",
       "      <td>N00007364</td>\n",
       "      <td>S221</td>\n",
       "      <td>S0CA00199</td>\n",
       "      <td>13061.0</td>\n",
       "      <td>300043</td>\n",
       "      <td>53273.0</td>\n",
       "      <td>Dianne Feinstein</td>\n",
       "      <td>NaN</td>\n",
       "      <td>49300.0</td>\n",
       "      <td>Dianne Feinstein</td>\n",
       "    </tr>\n",
       "    <tr>\n",
       "      <td>Democrat</td>\n",
       "      <td>Klobuchar</td>\n",
       "      <td>Amy</td>\n",
       "      <td>Jean</td>\n",
       "      <td>NaN</td>\n",
       "      <td>NaN</td>\n",
       "      <td>Amy Klobuchar</td>\n",
       "      <td>1960-05-25</td>\n",
       "      <td>F</td>\n",
       "      <td>sen</td>\n",
       "      <td>MN</td>\n",
       "      <td>...</td>\n",
       "      <td>N00027500</td>\n",
       "      <td>S311</td>\n",
       "      <td>S6MN00267</td>\n",
       "      <td>83701.0</td>\n",
       "      <td>412242</td>\n",
       "      <td>65092.0</td>\n",
       "      <td>Amy Klobuchar</td>\n",
       "      <td>NaN</td>\n",
       "      <td>40700.0</td>\n",
       "      <td>Amy Klobuchar</td>\n",
       "    </tr>\n",
       "    <tr>\n",
       "      <td>Democrat</td>\n",
       "      <td>Menendez</td>\n",
       "      <td>Robert</td>\n",
       "      <td>NaN</td>\n",
       "      <td>NaN</td>\n",
       "      <td>Bob</td>\n",
       "      <td>Robert Menendez</td>\n",
       "      <td>1954-01-01</td>\n",
       "      <td>M</td>\n",
       "      <td>sen</td>\n",
       "      <td>NJ</td>\n",
       "      <td>...</td>\n",
       "      <td>N00000699</td>\n",
       "      <td>S306</td>\n",
       "      <td>H2NJ13075,S6NJ00289</td>\n",
       "      <td>29608.0</td>\n",
       "      <td>400272</td>\n",
       "      <td>26961.0</td>\n",
       "      <td>Bob Menendez</td>\n",
       "      <td>NaN</td>\n",
       "      <td>29373.0</td>\n",
       "      <td>Bob Menendez</td>\n",
       "    </tr>\n",
       "    <tr>\n",
       "      <td>Independent</td>\n",
       "      <td>Sanders</td>\n",
       "      <td>Bernard</td>\n",
       "      <td>NaN</td>\n",
       "      <td>NaN</td>\n",
       "      <td>Bernie</td>\n",
       "      <td>Bernard Sanders</td>\n",
       "      <td>1941-09-08</td>\n",
       "      <td>M</td>\n",
       "      <td>sen</td>\n",
       "      <td>VT</td>\n",
       "      <td>...</td>\n",
       "      <td>N00000528</td>\n",
       "      <td>S313</td>\n",
       "      <td>H8VT01016,S4VT00033</td>\n",
       "      <td>994.0</td>\n",
       "      <td>400357</td>\n",
       "      <td>27110.0</td>\n",
       "      <td>Bernie Sanders</td>\n",
       "      <td>NaN</td>\n",
       "      <td>29147.0</td>\n",
       "      <td>Bernie Sanders</td>\n",
       "    </tr>\n",
       "    <tr>\n",
       "      <td>Democrat</td>\n",
       "      <td>Stabenow</td>\n",
       "      <td>Debbie</td>\n",
       "      <td>Ann</td>\n",
       "      <td>NaN</td>\n",
       "      <td>NaN</td>\n",
       "      <td>Debbie Stabenow</td>\n",
       "      <td>1950-04-29</td>\n",
       "      <td>F</td>\n",
       "      <td>sen</td>\n",
       "      <td>MI</td>\n",
       "      <td>...</td>\n",
       "      <td>N00004118</td>\n",
       "      <td>S284</td>\n",
       "      <td>S8MI00281,H6MI08163</td>\n",
       "      <td>45451.0</td>\n",
       "      <td>300093</td>\n",
       "      <td>515.0</td>\n",
       "      <td>Debbie Stabenow</td>\n",
       "      <td>NaN</td>\n",
       "      <td>29732.0</td>\n",
       "      <td>Debbie Stabenow</td>\n",
       "    </tr>\n",
       "  </tbody>\n",
       "</table>\n",
       "<p>10 rows × 34 columns</p>\n",
       "</div>"
      ],
      "text/plain": [
       "             last_name first_name middle_name suffix nickname  \\\n",
       "party                                                           \n",
       "Democrat         Brown    Sherrod         NaN    NaN      NaN   \n",
       "Democrat      Cantwell      Maria         NaN    NaN      NaN   \n",
       "Democrat        Cardin   Benjamin          L.    NaN      NaN   \n",
       "Democrat        Carper     Thomas     Richard    NaN      NaN   \n",
       "Democrat         Casey     Robert          P.    Jr.      Bob   \n",
       "Democrat     Feinstein     Dianne         NaN    NaN      NaN   \n",
       "Democrat     Klobuchar        Amy        Jean    NaN      NaN   \n",
       "Democrat      Menendez     Robert         NaN    NaN      Bob   \n",
       "Independent    Sanders    Bernard         NaN    NaN   Bernie   \n",
       "Democrat      Stabenow     Debbie         Ann    NaN      NaN   \n",
       "\n",
       "                        full_name    birthday gender type state  ...  \\\n",
       "party                                                            ...   \n",
       "Democrat            Sherrod Brown  1952-11-09      M  sen    OH  ...   \n",
       "Democrat           Maria Cantwell  1958-10-13      F  sen    WA  ...   \n",
       "Democrat       Benjamin L. Cardin  1943-10-05      M  sen    MD  ...   \n",
       "Democrat         Thomas R. Carper  1947-01-23      M  sen    DE  ...   \n",
       "Democrat     Robert P. Casey, Jr.  1960-04-13      M  sen    PA  ...   \n",
       "Democrat         Dianne Feinstein  1933-06-22      F  sen    CA  ...   \n",
       "Democrat            Amy Klobuchar  1960-05-25      F  sen    MN  ...   \n",
       "Democrat          Robert Menendez  1954-01-01      M  sen    NJ  ...   \n",
       "Independent       Bernard Sanders  1941-09-08      M  sen    VT  ...   \n",
       "Democrat          Debbie Stabenow  1950-04-29      F  sen    MI  ...   \n",
       "\n",
       "             opensecrets_id  lis_id              fec_ids cspan_id govtrack_id  \\\n",
       "party                                                                           \n",
       "Democrat          N00003535    S307  H2OH13033,S6OH00163   5051.0      400050   \n",
       "Democrat          N00007836    S275  S8WA00194,H2WA01054  26137.0      300018   \n",
       "Democrat          N00001955    S308  H6MD03177,S6MD03177   4004.0      400064   \n",
       "Democrat          N00012508    S277            S8DE00079    663.0      300019   \n",
       "Democrat          N00027503    S309            S6PA00217  47036.0      412246   \n",
       "Democrat          N00007364    S221            S0CA00199  13061.0      300043   \n",
       "Democrat          N00027500    S311            S6MN00267  83701.0      412242   \n",
       "Democrat          N00000699    S306  H2NJ13075,S6NJ00289  29608.0      400272   \n",
       "Independent       N00000528    S313  H8VT01016,S4VT00033    994.0      400357   \n",
       "Democrat          N00004118    S284  S8MI00281,H6MI08163  45451.0      300093   \n",
       "\n",
       "            votesmart_id    ballotpedia_id washington_post_id icpsr_id  \\\n",
       "party                                                                    \n",
       "Democrat         27018.0     Sherrod Brown                NaN  29389.0   \n",
       "Democrat         27122.0    Maria Cantwell                NaN  39310.0   \n",
       "Democrat         26888.0        Ben Cardin                NaN  15408.0   \n",
       "Democrat         22421.0        Tom Carper                NaN  15015.0   \n",
       "Democrat          2541.0    Bob Casey, Jr.                NaN  40703.0   \n",
       "Democrat         53273.0  Dianne Feinstein                NaN  49300.0   \n",
       "Democrat         65092.0     Amy Klobuchar                NaN  40700.0   \n",
       "Democrat         26961.0      Bob Menendez                NaN  29373.0   \n",
       "Independent      27110.0    Bernie Sanders                NaN  29147.0   \n",
       "Democrat           515.0   Debbie Stabenow                NaN  29732.0   \n",
       "\n",
       "                 wikipedia_id  \n",
       "party                          \n",
       "Democrat        Sherrod Brown  \n",
       "Democrat       Maria Cantwell  \n",
       "Democrat           Ben Cardin  \n",
       "Democrat           Tom Carper  \n",
       "Democrat        Bob Casey Jr.  \n",
       "Democrat     Dianne Feinstein  \n",
       "Democrat        Amy Klobuchar  \n",
       "Democrat         Bob Menendez  \n",
       "Independent    Bernie Sanders  \n",
       "Democrat      Debbie Stabenow  \n",
       "\n",
       "[10 rows x 34 columns]"
      ]
     },
     "execution_count": 57,
     "metadata": {},
     "output_type": "execute_result"
    }
   ],
   "source": [
    "legislator.index = legislator[\"party\"]\n",
    "\n",
    "legislator.head(10)"
   ]
  },
  {
   "cell_type": "markdown",
   "metadata": {},
   "source": [
    "## Exercise 7: Indexing & Sampling\n",
    "Randomly select 15 Republicans or Democrats (your choice) from the senate."
   ]
  },
  {
   "cell_type": "code",
   "execution_count": 77,
   "metadata": {},
   "outputs": [
    {
     "data": {
      "text/html": [
       "<div>\n",
       "<style scoped>\n",
       "    .dataframe tbody tr th:only-of-type {\n",
       "        vertical-align: middle;\n",
       "    }\n",
       "\n",
       "    .dataframe tbody tr th {\n",
       "        vertical-align: top;\n",
       "    }\n",
       "\n",
       "    .dataframe thead th {\n",
       "        text-align: right;\n",
       "    }\n",
       "</style>\n",
       "<table border=\"1\" class=\"dataframe\">\n",
       "  <thead>\n",
       "    <tr style=\"text-align: right;\">\n",
       "      <th></th>\n",
       "      <th>last_name</th>\n",
       "      <th>first_name</th>\n",
       "      <th>middle_name</th>\n",
       "      <th>suffix</th>\n",
       "      <th>nickname</th>\n",
       "      <th>full_name</th>\n",
       "      <th>birthday</th>\n",
       "      <th>gender</th>\n",
       "      <th>type</th>\n",
       "      <th>state</th>\n",
       "      <th>...</th>\n",
       "      <th>opensecrets_id</th>\n",
       "      <th>lis_id</th>\n",
       "      <th>fec_ids</th>\n",
       "      <th>cspan_id</th>\n",
       "      <th>govtrack_id</th>\n",
       "      <th>votesmart_id</th>\n",
       "      <th>ballotpedia_id</th>\n",
       "      <th>washington_post_id</th>\n",
       "      <th>icpsr_id</th>\n",
       "      <th>wikipedia_id</th>\n",
       "    </tr>\n",
       "    <tr>\n",
       "      <th>party</th>\n",
       "      <th></th>\n",
       "      <th></th>\n",
       "      <th></th>\n",
       "      <th></th>\n",
       "      <th></th>\n",
       "      <th></th>\n",
       "      <th></th>\n",
       "      <th></th>\n",
       "      <th></th>\n",
       "      <th></th>\n",
       "      <th></th>\n",
       "      <th></th>\n",
       "      <th></th>\n",
       "      <th></th>\n",
       "      <th></th>\n",
       "      <th></th>\n",
       "      <th></th>\n",
       "      <th></th>\n",
       "      <th></th>\n",
       "      <th></th>\n",
       "      <th></th>\n",
       "    </tr>\n",
       "  </thead>\n",
       "  <tbody>\n",
       "    <tr>\n",
       "      <td>Democrat</td>\n",
       "      <td>Murphy</td>\n",
       "      <td>Christopher</td>\n",
       "      <td>S.</td>\n",
       "      <td>NaN</td>\n",
       "      <td>NaN</td>\n",
       "      <td>Christopher Murphy</td>\n",
       "      <td>1973-08-03</td>\n",
       "      <td>M</td>\n",
       "      <td>sen</td>\n",
       "      <td>CT</td>\n",
       "      <td>...</td>\n",
       "      <td>N00027566</td>\n",
       "      <td>S364</td>\n",
       "      <td>H6CT05124,S2CT00132</td>\n",
       "      <td>1021270.0</td>\n",
       "      <td>412194</td>\n",
       "      <td>17189.0</td>\n",
       "      <td>Christopher S. Murphy</td>\n",
       "      <td>NaN</td>\n",
       "      <td>20707.0</td>\n",
       "      <td>Chris Murphy</td>\n",
       "    </tr>\n",
       "    <tr>\n",
       "      <td>Democrat</td>\n",
       "      <td>Kaine</td>\n",
       "      <td>Timothy</td>\n",
       "      <td>NaN</td>\n",
       "      <td>NaN</td>\n",
       "      <td>Tim</td>\n",
       "      <td>Tim Kaine</td>\n",
       "      <td>1958-02-26</td>\n",
       "      <td>M</td>\n",
       "      <td>sen</td>\n",
       "      <td>VA</td>\n",
       "      <td>...</td>\n",
       "      <td>N00033177</td>\n",
       "      <td>S362</td>\n",
       "      <td>S2VA00142</td>\n",
       "      <td>49219.0</td>\n",
       "      <td>412582</td>\n",
       "      <td>50772.0</td>\n",
       "      <td>Tim Kaine</td>\n",
       "      <td>NaN</td>\n",
       "      <td>41305.0</td>\n",
       "      <td>Tim Kaine</td>\n",
       "    </tr>\n",
       "    <tr>\n",
       "      <td>Democrat</td>\n",
       "      <td>Menendez</td>\n",
       "      <td>Robert</td>\n",
       "      <td>NaN</td>\n",
       "      <td>NaN</td>\n",
       "      <td>Bob</td>\n",
       "      <td>Robert Menendez</td>\n",
       "      <td>1954-01-01</td>\n",
       "      <td>M</td>\n",
       "      <td>sen</td>\n",
       "      <td>NJ</td>\n",
       "      <td>...</td>\n",
       "      <td>N00000699</td>\n",
       "      <td>S306</td>\n",
       "      <td>H2NJ13075,S6NJ00289</td>\n",
       "      <td>29608.0</td>\n",
       "      <td>400272</td>\n",
       "      <td>26961.0</td>\n",
       "      <td>Bob Menendez</td>\n",
       "      <td>NaN</td>\n",
       "      <td>29373.0</td>\n",
       "      <td>Bob Menendez</td>\n",
       "    </tr>\n",
       "    <tr>\n",
       "      <td>Democrat</td>\n",
       "      <td>Durbin</td>\n",
       "      <td>Richard</td>\n",
       "      <td>J.</td>\n",
       "      <td>NaN</td>\n",
       "      <td>NaN</td>\n",
       "      <td>Richard J. Durbin</td>\n",
       "      <td>1944-11-21</td>\n",
       "      <td>M</td>\n",
       "      <td>sen</td>\n",
       "      <td>IL</td>\n",
       "      <td>...</td>\n",
       "      <td>N00004981</td>\n",
       "      <td>S253</td>\n",
       "      <td>S6IL00151,H2IL20026</td>\n",
       "      <td>6741.0</td>\n",
       "      <td>300038</td>\n",
       "      <td>26847.0</td>\n",
       "      <td>Dick Durbin</td>\n",
       "      <td>NaN</td>\n",
       "      <td>15021.0</td>\n",
       "      <td>Dick Durbin</td>\n",
       "    </tr>\n",
       "    <tr>\n",
       "      <td>Democrat</td>\n",
       "      <td>Duckworth</td>\n",
       "      <td>Tammy</td>\n",
       "      <td>NaN</td>\n",
       "      <td>NaN</td>\n",
       "      <td>NaN</td>\n",
       "      <td>Tammy Duckworth</td>\n",
       "      <td>1968-03-12</td>\n",
       "      <td>F</td>\n",
       "      <td>sen</td>\n",
       "      <td>IL</td>\n",
       "      <td>...</td>\n",
       "      <td>N00027860</td>\n",
       "      <td>S386</td>\n",
       "      <td>H6IL06141,S6IL00292</td>\n",
       "      <td>94484.0</td>\n",
       "      <td>412533</td>\n",
       "      <td>57442.0</td>\n",
       "      <td>Tammy Duckworth</td>\n",
       "      <td>NaN</td>\n",
       "      <td>21325.0</td>\n",
       "      <td>Tammy Duckworth</td>\n",
       "    </tr>\n",
       "    <tr>\n",
       "      <td>Democrat</td>\n",
       "      <td>Udall</td>\n",
       "      <td>Tom</td>\n",
       "      <td>S.</td>\n",
       "      <td>NaN</td>\n",
       "      <td>NaN</td>\n",
       "      <td>Tom Udall</td>\n",
       "      <td>1948-05-18</td>\n",
       "      <td>M</td>\n",
       "      <td>sen</td>\n",
       "      <td>NM</td>\n",
       "      <td>...</td>\n",
       "      <td>N00006561</td>\n",
       "      <td>S326</td>\n",
       "      <td>H8NM03097,S8NM00184</td>\n",
       "      <td>10075.0</td>\n",
       "      <td>400413</td>\n",
       "      <td>22658.0</td>\n",
       "      <td>Tom Udall</td>\n",
       "      <td>NaN</td>\n",
       "      <td>29924.0</td>\n",
       "      <td>Tom Udall</td>\n",
       "    </tr>\n",
       "    <tr>\n",
       "      <td>Democrat</td>\n",
       "      <td>Bennet</td>\n",
       "      <td>Michael</td>\n",
       "      <td>F.</td>\n",
       "      <td>NaN</td>\n",
       "      <td>NaN</td>\n",
       "      <td>Michael F. Bennet</td>\n",
       "      <td>1964-11-28</td>\n",
       "      <td>M</td>\n",
       "      <td>sen</td>\n",
       "      <td>CO</td>\n",
       "      <td>...</td>\n",
       "      <td>N00030608</td>\n",
       "      <td>S330</td>\n",
       "      <td>S0CO00211</td>\n",
       "      <td>1031622.0</td>\n",
       "      <td>412330</td>\n",
       "      <td>110942.0</td>\n",
       "      <td>Michael Bennet</td>\n",
       "      <td>NaN</td>\n",
       "      <td>40910.0</td>\n",
       "      <td>Michael Bennet</td>\n",
       "    </tr>\n",
       "    <tr>\n",
       "      <td>Democrat</td>\n",
       "      <td>Carper</td>\n",
       "      <td>Thomas</td>\n",
       "      <td>Richard</td>\n",
       "      <td>NaN</td>\n",
       "      <td>NaN</td>\n",
       "      <td>Thomas R. Carper</td>\n",
       "      <td>1947-01-23</td>\n",
       "      <td>M</td>\n",
       "      <td>sen</td>\n",
       "      <td>DE</td>\n",
       "      <td>...</td>\n",
       "      <td>N00012508</td>\n",
       "      <td>S277</td>\n",
       "      <td>S8DE00079</td>\n",
       "      <td>663.0</td>\n",
       "      <td>300019</td>\n",
       "      <td>22421.0</td>\n",
       "      <td>Tom Carper</td>\n",
       "      <td>NaN</td>\n",
       "      <td>15015.0</td>\n",
       "      <td>Tom Carper</td>\n",
       "    </tr>\n",
       "    <tr>\n",
       "      <td>Democrat</td>\n",
       "      <td>Leahy</td>\n",
       "      <td>Patrick</td>\n",
       "      <td>J.</td>\n",
       "      <td>NaN</td>\n",
       "      <td>NaN</td>\n",
       "      <td>Patrick J. Leahy</td>\n",
       "      <td>1940-03-31</td>\n",
       "      <td>M</td>\n",
       "      <td>sen</td>\n",
       "      <td>VT</td>\n",
       "      <td>...</td>\n",
       "      <td>N00009918</td>\n",
       "      <td>S057</td>\n",
       "      <td>S4VT00017</td>\n",
       "      <td>1552.0</td>\n",
       "      <td>300065</td>\n",
       "      <td>53353.0</td>\n",
       "      <td>Patrick Leahy</td>\n",
       "      <td>NaN</td>\n",
       "      <td>14307.0</td>\n",
       "      <td>Patrick Leahy</td>\n",
       "    </tr>\n",
       "    <tr>\n",
       "      <td>Democrat</td>\n",
       "      <td>Markey</td>\n",
       "      <td>Edward</td>\n",
       "      <td>J.</td>\n",
       "      <td>NaN</td>\n",
       "      <td>Ed</td>\n",
       "      <td>Edward J. Markey</td>\n",
       "      <td>1946-07-11</td>\n",
       "      <td>M</td>\n",
       "      <td>sen</td>\n",
       "      <td>MA</td>\n",
       "      <td>...</td>\n",
       "      <td>N00000270</td>\n",
       "      <td>S369</td>\n",
       "      <td>H6MA07101,S4MA00028</td>\n",
       "      <td>260.0</td>\n",
       "      <td>400253</td>\n",
       "      <td>26900.0</td>\n",
       "      <td>Ed Markey</td>\n",
       "      <td>NaN</td>\n",
       "      <td>14435.0</td>\n",
       "      <td>Ed Markey</td>\n",
       "    </tr>\n",
       "    <tr>\n",
       "      <td>Democrat</td>\n",
       "      <td>Stabenow</td>\n",
       "      <td>Debbie</td>\n",
       "      <td>Ann</td>\n",
       "      <td>NaN</td>\n",
       "      <td>NaN</td>\n",
       "      <td>Debbie Stabenow</td>\n",
       "      <td>1950-04-29</td>\n",
       "      <td>F</td>\n",
       "      <td>sen</td>\n",
       "      <td>MI</td>\n",
       "      <td>...</td>\n",
       "      <td>N00004118</td>\n",
       "      <td>S284</td>\n",
       "      <td>S8MI00281,H6MI08163</td>\n",
       "      <td>45451.0</td>\n",
       "      <td>300093</td>\n",
       "      <td>515.0</td>\n",
       "      <td>Debbie Stabenow</td>\n",
       "      <td>NaN</td>\n",
       "      <td>29732.0</td>\n",
       "      <td>Debbie Stabenow</td>\n",
       "    </tr>\n",
       "    <tr>\n",
       "      <td>Democrat</td>\n",
       "      <td>Reed</td>\n",
       "      <td>John</td>\n",
       "      <td>F.</td>\n",
       "      <td>NaN</td>\n",
       "      <td>Jack</td>\n",
       "      <td>Jack Reed</td>\n",
       "      <td>1949-11-12</td>\n",
       "      <td>M</td>\n",
       "      <td>sen</td>\n",
       "      <td>RI</td>\n",
       "      <td>...</td>\n",
       "      <td>N00000362</td>\n",
       "      <td>S259</td>\n",
       "      <td>S6RI00163,H0RI02071</td>\n",
       "      <td>24239.0</td>\n",
       "      <td>300081</td>\n",
       "      <td>27060.0</td>\n",
       "      <td>Jack Reed</td>\n",
       "      <td>NaN</td>\n",
       "      <td>29142.0</td>\n",
       "      <td>Jack Reed (Rhode Island politician)</td>\n",
       "    </tr>\n",
       "    <tr>\n",
       "      <td>Democrat</td>\n",
       "      <td>Gillibrand</td>\n",
       "      <td>Kirsten</td>\n",
       "      <td>E.</td>\n",
       "      <td>NaN</td>\n",
       "      <td>NaN</td>\n",
       "      <td>Kirsten E. Gillibrand</td>\n",
       "      <td>1966-12-09</td>\n",
       "      <td>F</td>\n",
       "      <td>sen</td>\n",
       "      <td>NY</td>\n",
       "      <td>...</td>\n",
       "      <td>N00027658</td>\n",
       "      <td>S331</td>\n",
       "      <td>H6NY20167,S0NY00410</td>\n",
       "      <td>1022862.0</td>\n",
       "      <td>412223</td>\n",
       "      <td>65147.0</td>\n",
       "      <td>Kirsten Gillibrand</td>\n",
       "      <td>NaN</td>\n",
       "      <td>20735.0</td>\n",
       "      <td>Kirsten Gillibrand</td>\n",
       "    </tr>\n",
       "    <tr>\n",
       "      <td>Democrat</td>\n",
       "      <td>Tester</td>\n",
       "      <td>Jon</td>\n",
       "      <td>NaN</td>\n",
       "      <td>NaN</td>\n",
       "      <td>NaN</td>\n",
       "      <td>Jon Tester</td>\n",
       "      <td>1956-08-21</td>\n",
       "      <td>M</td>\n",
       "      <td>sen</td>\n",
       "      <td>MT</td>\n",
       "      <td>...</td>\n",
       "      <td>N00027605</td>\n",
       "      <td>S314</td>\n",
       "      <td>S6MT00162</td>\n",
       "      <td>1020176.0</td>\n",
       "      <td>412244</td>\n",
       "      <td>20928.0</td>\n",
       "      <td>Jon Tester</td>\n",
       "      <td>NaN</td>\n",
       "      <td>40702.0</td>\n",
       "      <td>Jon Tester</td>\n",
       "    </tr>\n",
       "    <tr>\n",
       "      <td>Democrat</td>\n",
       "      <td>Schumer</td>\n",
       "      <td>Charles</td>\n",
       "      <td>E.</td>\n",
       "      <td>NaN</td>\n",
       "      <td>Chuck</td>\n",
       "      <td>Charles E. Schumer</td>\n",
       "      <td>1950-11-23</td>\n",
       "      <td>M</td>\n",
       "      <td>sen</td>\n",
       "      <td>NY</td>\n",
       "      <td>...</td>\n",
       "      <td>N00001093</td>\n",
       "      <td>S270</td>\n",
       "      <td>S8NY00082,H0NY16010</td>\n",
       "      <td>5929.0</td>\n",
       "      <td>300087</td>\n",
       "      <td>26976.0</td>\n",
       "      <td>Chuck Schumer</td>\n",
       "      <td>NaN</td>\n",
       "      <td>14858.0</td>\n",
       "      <td>Chuck Schumer</td>\n",
       "    </tr>\n",
       "  </tbody>\n",
       "</table>\n",
       "<p>15 rows × 34 columns</p>\n",
       "</div>"
      ],
      "text/plain": [
       "           last_name   first_name middle_name suffix nickname  \\\n",
       "party                                                           \n",
       "Democrat      Murphy  Christopher          S.    NaN      NaN   \n",
       "Democrat       Kaine      Timothy         NaN    NaN      Tim   \n",
       "Democrat    Menendez       Robert         NaN    NaN      Bob   \n",
       "Democrat      Durbin      Richard          J.    NaN      NaN   \n",
       "Democrat   Duckworth        Tammy         NaN    NaN      NaN   \n",
       "Democrat       Udall          Tom          S.    NaN      NaN   \n",
       "Democrat      Bennet      Michael          F.    NaN      NaN   \n",
       "Democrat      Carper       Thomas     Richard    NaN      NaN   \n",
       "Democrat       Leahy      Patrick          J.    NaN      NaN   \n",
       "Democrat      Markey       Edward          J.    NaN       Ed   \n",
       "Democrat    Stabenow       Debbie         Ann    NaN      NaN   \n",
       "Democrat        Reed         John          F.    NaN     Jack   \n",
       "Democrat  Gillibrand      Kirsten          E.    NaN      NaN   \n",
       "Democrat      Tester          Jon         NaN    NaN      NaN   \n",
       "Democrat     Schumer      Charles          E.    NaN    Chuck   \n",
       "\n",
       "                      full_name    birthday gender type state  ...  \\\n",
       "party                                                          ...   \n",
       "Democrat     Christopher Murphy  1973-08-03      M  sen    CT  ...   \n",
       "Democrat              Tim Kaine  1958-02-26      M  sen    VA  ...   \n",
       "Democrat        Robert Menendez  1954-01-01      M  sen    NJ  ...   \n",
       "Democrat      Richard J. Durbin  1944-11-21      M  sen    IL  ...   \n",
       "Democrat        Tammy Duckworth  1968-03-12      F  sen    IL  ...   \n",
       "Democrat              Tom Udall  1948-05-18      M  sen    NM  ...   \n",
       "Democrat      Michael F. Bennet  1964-11-28      M  sen    CO  ...   \n",
       "Democrat       Thomas R. Carper  1947-01-23      M  sen    DE  ...   \n",
       "Democrat       Patrick J. Leahy  1940-03-31      M  sen    VT  ...   \n",
       "Democrat       Edward J. Markey  1946-07-11      M  sen    MA  ...   \n",
       "Democrat        Debbie Stabenow  1950-04-29      F  sen    MI  ...   \n",
       "Democrat              Jack Reed  1949-11-12      M  sen    RI  ...   \n",
       "Democrat  Kirsten E. Gillibrand  1966-12-09      F  sen    NY  ...   \n",
       "Democrat             Jon Tester  1956-08-21      M  sen    MT  ...   \n",
       "Democrat     Charles E. Schumer  1950-11-23      M  sen    NY  ...   \n",
       "\n",
       "          opensecrets_id  lis_id              fec_ids   cspan_id govtrack_id  \\\n",
       "party                                                                          \n",
       "Democrat       N00027566    S364  H6CT05124,S2CT00132  1021270.0      412194   \n",
       "Democrat       N00033177    S362            S2VA00142    49219.0      412582   \n",
       "Democrat       N00000699    S306  H2NJ13075,S6NJ00289    29608.0      400272   \n",
       "Democrat       N00004981    S253  S6IL00151,H2IL20026     6741.0      300038   \n",
       "Democrat       N00027860    S386  H6IL06141,S6IL00292    94484.0      412533   \n",
       "Democrat       N00006561    S326  H8NM03097,S8NM00184    10075.0      400413   \n",
       "Democrat       N00030608    S330            S0CO00211  1031622.0      412330   \n",
       "Democrat       N00012508    S277            S8DE00079      663.0      300019   \n",
       "Democrat       N00009918    S057            S4VT00017     1552.0      300065   \n",
       "Democrat       N00000270    S369  H6MA07101,S4MA00028      260.0      400253   \n",
       "Democrat       N00004118    S284  S8MI00281,H6MI08163    45451.0      300093   \n",
       "Democrat       N00000362    S259  S6RI00163,H0RI02071    24239.0      300081   \n",
       "Democrat       N00027658    S331  H6NY20167,S0NY00410  1022862.0      412223   \n",
       "Democrat       N00027605    S314            S6MT00162  1020176.0      412244   \n",
       "Democrat       N00001093    S270  S8NY00082,H0NY16010     5929.0      300087   \n",
       "\n",
       "         votesmart_id         ballotpedia_id washington_post_id icpsr_id  \\\n",
       "party                                                                      \n",
       "Democrat      17189.0  Christopher S. Murphy                NaN  20707.0   \n",
       "Democrat      50772.0              Tim Kaine                NaN  41305.0   \n",
       "Democrat      26961.0           Bob Menendez                NaN  29373.0   \n",
       "Democrat      26847.0            Dick Durbin                NaN  15021.0   \n",
       "Democrat      57442.0        Tammy Duckworth                NaN  21325.0   \n",
       "Democrat      22658.0              Tom Udall                NaN  29924.0   \n",
       "Democrat     110942.0         Michael Bennet                NaN  40910.0   \n",
       "Democrat      22421.0             Tom Carper                NaN  15015.0   \n",
       "Democrat      53353.0          Patrick Leahy                NaN  14307.0   \n",
       "Democrat      26900.0              Ed Markey                NaN  14435.0   \n",
       "Democrat        515.0        Debbie Stabenow                NaN  29732.0   \n",
       "Democrat      27060.0              Jack Reed                NaN  29142.0   \n",
       "Democrat      65147.0     Kirsten Gillibrand                NaN  20735.0   \n",
       "Democrat      20928.0             Jon Tester                NaN  40702.0   \n",
       "Democrat      26976.0          Chuck Schumer                NaN  14858.0   \n",
       "\n",
       "                                 wikipedia_id  \n",
       "party                                          \n",
       "Democrat                         Chris Murphy  \n",
       "Democrat                            Tim Kaine  \n",
       "Democrat                         Bob Menendez  \n",
       "Democrat                          Dick Durbin  \n",
       "Democrat                      Tammy Duckworth  \n",
       "Democrat                            Tom Udall  \n",
       "Democrat                       Michael Bennet  \n",
       "Democrat                           Tom Carper  \n",
       "Democrat                        Patrick Leahy  \n",
       "Democrat                            Ed Markey  \n",
       "Democrat                      Debbie Stabenow  \n",
       "Democrat  Jack Reed (Rhode Island politician)  \n",
       "Democrat                   Kirsten Gillibrand  \n",
       "Democrat                           Jon Tester  \n",
       "Democrat                        Chuck Schumer  \n",
       "\n",
       "[15 rows x 34 columns]"
      ]
     },
     "execution_count": 77,
     "metadata": {},
     "output_type": "execute_result"
    }
   ],
   "source": [
    "\n",
    "legislator[(~legislator['senate_class'].isna()) & (legislator['party'] == 'Democrat')].sample(15)"
   ]
  },
  {
   "cell_type": "markdown",
   "metadata": {},
   "source": [
    "## Exercise 8: Dates\n",
    "Let's learn something not covered in the Pandas 1 lesson regarding dates.  We have the birthdates for each legislator, but they are in a String format.  Let's convert it to a datetime object. We can do this using the `pd.to_datetime` function.  Take a look at the online documentation to see how to use this function. Convert the `legislators['birthday']` column to a `datetime` object. Confirm that the column is now a datetime object."
   ]
  },
  {
   "cell_type": "code",
   "execution_count": 96,
   "metadata": {},
   "outputs": [],
   "source": [
    "legislator['birthday'] = pd.to_datetime(legislator['birthday'])"
   ]
  },
  {
   "cell_type": "code",
   "execution_count": 97,
   "metadata": {},
   "outputs": [
    {
     "data": {
      "text/plain": [
       "party\n",
       "Democrat     1952-11-09\n",
       "Democrat     1958-10-13\n",
       "Democrat     1943-10-05\n",
       "Democrat     1947-01-23\n",
       "Democrat     1960-04-13\n",
       "                ...    \n",
       "Democrat     1982-07-25\n",
       "Republican   1965-10-23\n",
       "Republican   1964-07-01\n",
       "Republican   1963-03-05\n",
       "Republican   1970-11-27\n",
       "Name: birthday, Length: 536, dtype: datetime64[ns]"
      ]
     },
     "execution_count": 97,
     "metadata": {},
     "output_type": "execute_result"
    }
   ],
   "source": [
    "legislator['birthday']"
   ]
  },
  {
   "cell_type": "markdown",
   "metadata": {},
   "source": [
    "Now that we have the birthdays in a `datetime` object, how can we calculate their age?  Hint: we can use the `pd.Timestamp.now()` function to get a datetime object for this moment. Let's subtract the current time from their birthdays.  Print the top 5 results."
   ]
  },
  {
   "cell_type": "code",
   "execution_count": 101,
   "metadata": {},
   "outputs": [
    {
     "data": {
      "text/plain": [
       "party\n",
       "Democrat      67.345205\n",
       "Democrat      61.416438\n",
       "Democrat      76.449315\n",
       "Democrat      73.145205\n",
       "Democrat      59.915068\n",
       "                ...    \n",
       "Democrat      37.619178\n",
       "Republican    54.383562\n",
       "Republican    55.695890\n",
       "Republican    57.021918\n",
       "Republican    49.284932\n",
       "Name: birthday, Length: 536, dtype: float64"
      ]
     },
     "execution_count": 101,
     "metadata": {},
     "output_type": "execute_result"
    }
   ],
   "source": [
    "((pd.Timestamp.now() - legislator['birthday']).dt.days) / (365)"
   ]
  },
  {
   "cell_type": "markdown",
   "metadata": {},
   "source": [
    "Notice that the result of subtracting two `datetime` objects is a `timedelta` object. It contains the difference between two time values. The value we calculated therefore gives us the number of days old.  However, we want the number of years. \n",
    "\n",
    "To get the number of years we can divide the number of days old by the number of days in a year (i.e. 365). However, we need to extract out the days from the `datetime` object. To get this, the Pandas Series object has an accessor for extracting components of `datetime` objects and `timedelta` objects. It's named `dt` and it works for both.  You can learn more about the attributes of this accessor at the [datetime objects page](https://pandas.pydata.org/pandas-docs/stable/reference/series.html#datetime-properties) and the [timedelta objects page](https://pandas.pydata.org/pandas-docs/stable/reference/series.html#timedelta-properties) by clicking.  Take a moment to look over that documentation.\n",
    "\n",
    "How would then extract the days in order to divide by 365 to get the years?  Once you've figurd it out. Do so, convert the years to an integer and add the resulting series back into the legislator dataframe as a new column named `age`.  Hint: use the [astype](https://pandas.pydata.org/pandas-docs/stable/reference/api/pandas.Series.astype.html) function of Pandas to convert the type."
   ]
  },
  {
   "cell_type": "code",
   "execution_count": 102,
   "metadata": {},
   "outputs": [
    {
     "data": {
      "text/plain": [
       "party\n",
       "Democrat     67 days 08:19:01.434003\n",
       "Democrat     61 days 10:01:35.954551\n",
       "Democrat     76 days 10:48:56.502496\n",
       "Democrat     73 days 03:31:01.434003\n",
       "Democrat     59 days 21:59:37.598387\n",
       "                       ...          \n",
       "Democrat     37 days 14:53:32.666880\n",
       "Republican   54 days 09:14:15.406606\n",
       "Republican   55 days 16:44:00.612086\n",
       "Republican   57 days 00:33:29.379209\n",
       "Republican   49 days 06:52:13.762770\n",
       "Name: birthday, Length: 536, dtype: timedelta64[ns]"
      ]
     },
     "execution_count": 102,
     "metadata": {},
     "output_type": "execute_result"
    }
   ],
   "source": [
    "x / 365"
   ]
  },
  {
   "cell_type": "markdown",
   "metadata": {},
   "source": [
    "Next, find the youngest, oldest and average age of all legislators"
   ]
  },
  {
   "cell_type": "code",
   "execution_count": null,
   "metadata": {},
   "outputs": [],
   "source": []
  },
  {
   "cell_type": "markdown",
   "metadata": {},
   "source": [
    "Who are the oldest and youngest legislators?"
   ]
  },
  {
   "cell_type": "code",
   "execution_count": null,
   "metadata": {},
   "outputs": [],
   "source": []
  },
  {
   "cell_type": "markdown",
   "metadata": {},
   "source": [
    "## Exercise 9:  Indexing with loc and iloc\n",
    "Reindex the legislators dataframe using the state, and find all legislators from your home state using the `loc` accessor."
   ]
  },
  {
   "cell_type": "code",
   "execution_count": null,
   "metadata": {},
   "outputs": [],
   "source": []
  },
  {
   "cell_type": "markdown",
   "metadata": {},
   "source": [
    "Use the loc command to find all legislators from South Carolina and North Carolina"
   ]
  },
  {
   "cell_type": "code",
   "execution_count": null,
   "metadata": {},
   "outputs": [],
   "source": []
  },
  {
   "cell_type": "markdown",
   "metadata": {},
   "source": [
    "Use the loc command to retrieve all legislators from California, Oregon and Washington and only get their full name, state, party and age"
   ]
  },
  {
   "cell_type": "code",
   "execution_count": null,
   "metadata": {},
   "outputs": [],
   "source": []
  },
  {
   "cell_type": "markdown",
   "metadata": {},
   "source": [
    "## Exercise 10: Economics Data Example\n",
    "### Task 1: Explore the data\n",
    "Import the data from the [Lectures in Quantiatives Economics](https://github.com/QuantEcon/lecture-source-py) regarding minimum wages in countries round the world in US Dollars.  You can view the data [here](https://github.com/QuantEcon/lecture-source-py/blob/master/source/_static/lecture_specific/pandas_panel/realwage.csv) and you can access the data file here: https://raw.githubusercontent.com/QuantEcon/lecture-source-py/master/source/_static/lecture_specific/pandas_panel/realwage.csv.  Then perform the following\n",
    "\n",
    "Import and print the first 5 lines of data to explore what is there."
   ]
  },
  {
   "cell_type": "code",
   "execution_count": null,
   "metadata": {},
   "outputs": [],
   "source": []
  },
  {
   "cell_type": "code",
   "execution_count": null,
   "metadata": {},
   "outputs": [],
   "source": []
  },
  {
   "cell_type": "markdown",
   "metadata": {},
   "source": [
    "Find the shape of the data."
   ]
  },
  {
   "cell_type": "code",
   "execution_count": null,
   "metadata": {},
   "outputs": [],
   "source": []
  },
  {
   "cell_type": "markdown",
   "metadata": {},
   "source": [
    "List the column names."
   ]
  },
  {
   "cell_type": "code",
   "execution_count": null,
   "metadata": {},
   "outputs": [],
   "source": []
  },
  {
   "cell_type": "markdown",
   "metadata": {},
   "source": [
    "Identify the data types. Do they match what you would expect?"
   ]
  },
  {
   "cell_type": "code",
   "execution_count": null,
   "metadata": {},
   "outputs": [],
   "source": []
  },
  {
   "cell_type": "markdown",
   "metadata": {},
   "source": [
    "Identify columns with missing values. "
   ]
  },
  {
   "cell_type": "code",
   "execution_count": null,
   "metadata": {},
   "outputs": [],
   "source": []
  },
  {
   "cell_type": "markdown",
   "metadata": {},
   "source": [
    "Identify if there are duplicated entires."
   ]
  },
  {
   "cell_type": "code",
   "execution_count": null,
   "metadata": {},
   "outputs": [],
   "source": []
  },
  {
   "cell_type": "markdown",
   "metadata": {},
   "source": [
    "How many unique values per row are there.  Do these look reasonable for the data type and what you know about what is stored in the column?"
   ]
  },
  {
   "cell_type": "code",
   "execution_count": null,
   "metadata": {},
   "outputs": [],
   "source": []
  },
  {
   "cell_type": "markdown",
   "metadata": {},
   "source": [
    "### Task 2: Explore More\n",
    "Retrieve descriptive statistics for the data."
   ]
  },
  {
   "cell_type": "code",
   "execution_count": null,
   "metadata": {},
   "outputs": [],
   "source": []
  },
  {
   "cell_type": "markdown",
   "metadata": {},
   "source": [
    "Identify all of the countries listed in the data."
   ]
  },
  {
   "cell_type": "code",
   "execution_count": null,
   "metadata": {},
   "outputs": [],
   "source": []
  },
  {
   "cell_type": "markdown",
   "metadata": {},
   "source": [
    "Convert the time column to a datetime object."
   ]
  },
  {
   "cell_type": "code",
   "execution_count": null,
   "metadata": {},
   "outputs": [],
   "source": []
  },
  {
   "cell_type": "markdown",
   "metadata": {},
   "source": [
    "Identify the time points that were used for data collection. How many years of data collection were there? What time of year were the data collected?"
   ]
  },
  {
   "cell_type": "code",
   "execution_count": null,
   "metadata": {},
   "outputs": [],
   "source": []
  },
  {
   "cell_type": "markdown",
   "metadata": {},
   "source": [
    "Because we only have one data point collected per year per country, simplify this by adding a new column with just the year.  Print the first 5 rows to confirm the column was added."
   ]
  },
  {
   "cell_type": "code",
   "execution_count": null,
   "metadata": {},
   "outputs": [],
   "source": []
  },
  {
   "cell_type": "markdown",
   "metadata": {},
   "source": [
    "There are two pay periods.  Retrieve them in a list of just the two strings"
   ]
  },
  {
   "cell_type": "code",
   "execution_count": null,
   "metadata": {},
   "outputs": [],
   "source": []
  },
  {
   "cell_type": "markdown",
   "metadata": {},
   "source": [
    "### Task 3: Clean the data\n",
    "We have no duplicates in this data so we do not need to consider removing those, but we do have missing values in the `value` column. Lets remove those.  Check the dimensions afterwards to make sure they rows with missing values are gone."
   ]
  },
  {
   "cell_type": "code",
   "execution_count": null,
   "metadata": {},
   "outputs": [],
   "source": []
  },
  {
   "cell_type": "markdown",
   "metadata": {},
   "source": [
    "### Task 4:  Indexing\n",
    "Use boolean indexing to retrieve the rows of annual salary in United States"
   ]
  },
  {
   "cell_type": "code",
   "execution_count": null,
   "metadata": {},
   "outputs": [],
   "source": []
  },
  {
   "cell_type": "markdown",
   "metadata": {},
   "source": [
    "Do we have enough data to calculate descriptive statistics for annual salary in the United States in 2016?"
   ]
  },
  {
   "cell_type": "code",
   "execution_count": null,
   "metadata": {},
   "outputs": [],
   "source": []
  },
  {
   "cell_type": "markdown",
   "metadata": {},
   "source": [
    "Use loc to calculate descriptive statistics for the hourly salary in the United States and then again separately for Ireland. Hint: you will have to set row indexes."
   ]
  },
  {
   "cell_type": "code",
   "execution_count": null,
   "metadata": {},
   "outputs": [],
   "source": []
  },
  {
   "cell_type": "markdown",
   "metadata": {},
   "source": [
    "Now do the same for Annual salary"
   ]
  },
  {
   "cell_type": "code",
   "execution_count": null,
   "metadata": {},
   "outputs": [],
   "source": []
  }
 ],
 "metadata": {
  "kernelspec": {
   "display_name": "Python 3",
   "language": "python",
   "name": "python3"
  },
  "language_info": {
   "codemirror_mode": {
    "name": "ipython",
    "version": 3
   },
   "file_extension": ".py",
   "mimetype": "text/x-python",
   "name": "python",
   "nbconvert_exporter": "python",
   "pygments_lexer": "ipython3",
   "version": "3.7.4"
  }
 },
 "nbformat": 4,
 "nbformat_minor": 4
}
