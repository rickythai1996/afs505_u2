{
 "cells": [
  {
   "cell_type": "markdown",
   "metadata": {},
   "source": [
    "# Lesson 1 Practice: NumPy Part 1\n",
    "Use this notebook to follow along with the lesson in the corresponding lesson notebook: [L01-Numpy_Part1-Lesson.ipynb](./L01-Numpy_Part1-Lesson.ipynb).  \n",
    "\n"
   ]
  },
  {
   "cell_type": "markdown",
   "metadata": {},
   "source": [
    "## Instructions\n",
    "Follow along with the teaching material in the lesson. Throughout the tutorial sections labeled as \"Tasks\" are interspersed and indicated with the icon: ![Task](http://icons.iconarchive.com/icons/sbstnblnd/plateau/16/Apps-gnome-info-icon.png). You should follow the instructions provided in these sections by performing them in the practice notebook.  When the tutorial is completed you can turn in the final practice notebook. For each task, use the cell below it to write and test your code.  You may add additional cells for any task as needed or desired.  "
   ]
  },
  {
   "cell_type": "markdown",
   "metadata": {},
   "source": [
    "## Task 1a: Setup\n",
    "\n",
    "In the practice notebook, import the following packages:\n",
    "+ `numpy` as `np`"
   ]
  },
  {
   "cell_type": "code",
   "execution_count": 2,
   "metadata": {},
   "outputs": [],
   "source": [
    "import numpy as np"
   ]
  },
  {
   "cell_type": "markdown",
   "metadata": {},
   "source": [
    "## Task 2a: Creating Arrays\n",
    "\n",
    "In the practice notebook, perform the following.  \n",
    "- Create a 1-dimensional numpy array and print it.\n",
    "- Create a 2-dimensional numpy array and print it.\n",
    "- Create a 3-dimensional numpy array and print it."
   ]
  },
  {
   "cell_type": "code",
   "execution_count": 3,
   "metadata": {},
   "outputs": [
    {
     "name": "stdout",
     "output_type": "stream",
     "text": [
      "[1 2 3 4 5]\n",
      "[[1 2 3]\n",
      " [4 5 6]]\n",
      "[[[ 1  2  3]\n",
      "  [ 4  5  6]]\n",
      "\n",
      " [[ 7  8  9]\n",
      "  [10 11 12]]]\n"
     ]
    }
   ],
   "source": [
    "my_array = np.array([1,2,3,4,5])\n",
    "my_2D_array = np.array([[1,2,3],[4,5,6]])\n",
    "my_3D_array = np.array([[[1,2,3],[4,5,6]],[[7,8,9],[10,11,12]]])\n",
    "\n",
    "print(my_array)\n",
    "print(my_2D_array)\n",
    "print(my_3D_array)\n"
   ]
  },
  {
   "cell_type": "markdown",
   "metadata": {},
   "source": [
    "## Task 3a: Accessing Array Attributes\n",
    "\n",
    "In the practice notebook, perform the following.\n",
    "\n",
    "- Create a NumPy array.\n",
    "- Write code that prints these attributes (one per line): `ndim`, `shape`, `size`, `dtype`, `itemsize`, `data`, `nbytes`.\n",
    "- Add a comment line, before each line describing what value the attribute returns. \n"
   ]
  },
  {
   "cell_type": "code",
   "execution_count": 4,
   "metadata": {},
   "outputs": [
    {
     "name": "stdout",
     "output_type": "stream",
     "text": [
      "1\n",
      "(10,)\n",
      "10\n",
      "int64\n",
      "8\n",
      "<memory at 0x1109bb120>\n",
      "80\n"
     ]
    }
   ],
   "source": [
    "array = np.array([1,2,3,4,5,6,7,8,9,10])\n",
    "\n",
    "print(array.ndim)\n",
    "print(array.shape)\n",
    "print(array.size)\n",
    "print(array.dtype)\n",
    "print(array.itemsize)\n",
    "print(array.data)\n",
    "print(array.nbytes)"
   ]
  },
  {
   "cell_type": "markdown",
   "metadata": {},
   "source": [
    "## Task 4a: Initializing Arrays\n",
    "\n",
    "In the practice notebook, perform the following.\n",
    "\n",
    "+ Create an initialized array by using these functions:  `ones`, `zeros`, `empty`, `full`, `arange`, `linspace` and `random.random`. Be sure to follow each array creation with a call to `print()` to display your newly created arrays. \n",
    "+ Add a comment above each function call describing what is being done.  "
   ]
  },
  {
   "cell_type": "code",
   "execution_count": 14,
   "metadata": {},
   "outputs": [
    {
     "name": "stdout",
     "output_type": "stream",
     "text": [
      "[1. 1. 1. 1. 1.]\n",
      "[[0. 0. 0. 0.]\n",
      " [0. 0. 0. 0.]\n",
      " [0. 0. 0. 0.]]\n",
      "[[0. 0.]\n",
      " [0. 0.]]\n",
      "[[10 10]\n",
      " [10 10]\n",
      " [10 10]]\n",
      "[ 2. 10.]\n",
      "0.0003342018884384679\n",
      "[3 7]\n"
     ]
    }
   ],
   "source": [
    "ones = np.ones(5)\n",
    "#creating an arry of 1 with 5 columns\n",
    "zeros = np.zeros((3,4))\n",
    "#create a 3x4 array with zeros\n",
    "empty = np.empty((2,2))\n",
    "#create a 2x2 empty array with random input\n",
    "full = np.full((3,2),10)\n",
    "#create a full 3,2 array with 10 as input\n",
    "linspace = np.linspace(2, 10, num = 2)\n",
    "#create an 1x2 array start with 2 and end with 10\n",
    "random = np.random.random()\n",
    "#create a random array\n",
    "arrange = np.array((3,7))\n",
    "#create a 1D array with 3 and 7\n",
    "\n",
    "print(ones)\n",
    "print(zeros)\n",
    "print(empty)\n",
    "print(full)\n",
    "print(linspace)\n",
    "print(random)\n",
    "print(arrange)"
   ]
  },
  {
   "cell_type": "markdown",
   "metadata": {},
   "source": [
    "## Task 5a:  Broadcasting Arrays\n",
    "\n",
    "In the practice notebook, perform the following.\n",
    "\n",
    "+ Create two arrays of differing sizes but compatible with broadcasting.\n",
    "+ Perform addition, multiplication and subtraction.\n",
    "+ Create two additional arrays of differing size that do not meet the rules for broadcasting and try a mathematical operation.  "
   ]
  },
  {
   "cell_type": "code",
   "execution_count": 19,
   "metadata": {},
   "outputs": [
    {
     "name": "stdout",
     "output_type": "stream",
     "text": [
      "array_1 shape: [1 2 3]\n",
      "array_2 shape: [[5 5 5]\n",
      " [5 5 5]]\n",
      "[[6 7 8]\n",
      " [6 7 8]]\n",
      "[[-4 -3 -2]\n",
      " [-4 -3 -2]]\n",
      "[[ 5 10 15]\n",
      " [ 5 10 15]]\n"
     ]
    }
   ],
   "source": [
    "array_1 = np.array([1,2,3])\n",
    "array_2 = np.full((2,3),5)\n",
    "\n",
    "print(f\"array_1 shape: {array_1}\")\n",
    "print(f\"array_2 shape: {array_2}\")\n",
    "\n",
    "print(array_1 + array_2)\n",
    "print(array_1 - array_2)\n",
    "print(array_1 * array_2)"
   ]
  },
  {
   "cell_type": "code",
   "execution_count": 24,
   "metadata": {},
   "outputs": [
    {
     "name": "stdout",
     "output_type": "stream",
     "text": [
      "array_1 shape: [[1 2 3]\n",
      " [4 5 7]]\n",
      "array_2 shape: [[5 5 5 5]\n",
      " [5 5 5 5]]\n"
     ]
    },
    {
     "ename": "ValueError",
     "evalue": "operands could not be broadcast together with shapes (2,3) (2,4) ",
     "output_type": "error",
     "traceback": [
      "\u001b[0;31m---------------------------------------------------------------------------\u001b[0m",
      "\u001b[0;31mValueError\u001b[0m                                Traceback (most recent call last)",
      "\u001b[0;32m<ipython-input-24-de9c29712780>\u001b[0m in \u001b[0;36m<module>\u001b[0;34m\u001b[0m\n\u001b[1;32m      5\u001b[0m \u001b[0mprint\u001b[0m\u001b[0;34m(\u001b[0m\u001b[0;34mf\"array_2 shape: {array_4}\"\u001b[0m\u001b[0;34m)\u001b[0m\u001b[0;34m\u001b[0m\u001b[0;34m\u001b[0m\u001b[0m\n\u001b[1;32m      6\u001b[0m \u001b[0;34m\u001b[0m\u001b[0m\n\u001b[0;32m----> 7\u001b[0;31m \u001b[0mprint\u001b[0m\u001b[0;34m(\u001b[0m\u001b[0marray_3\u001b[0m \u001b[0;34m+\u001b[0m \u001b[0marray_4\u001b[0m\u001b[0;34m)\u001b[0m\u001b[0;34m\u001b[0m\u001b[0;34m\u001b[0m\u001b[0m\n\u001b[0m\u001b[1;32m      8\u001b[0m \u001b[0mprint\u001b[0m\u001b[0;34m(\u001b[0m\u001b[0marray_3\u001b[0m \u001b[0;34m+\u001b[0m \u001b[0marray_4\u001b[0m\u001b[0;34m)\u001b[0m\u001b[0;34m\u001b[0m\u001b[0;34m\u001b[0m\u001b[0m\n\u001b[1;32m      9\u001b[0m \u001b[0mprint\u001b[0m\u001b[0;34m(\u001b[0m\u001b[0marray_3\u001b[0m \u001b[0;34m+\u001b[0m \u001b[0marray_4\u001b[0m\u001b[0;34m)\u001b[0m\u001b[0;34m\u001b[0m\u001b[0;34m\u001b[0m\u001b[0m\n",
      "\u001b[0;31mValueError\u001b[0m: operands could not be broadcast together with shapes (2,3) (2,4) "
     ]
    }
   ],
   "source": [
    "array_3 = np.array([[1,2,3],[4,5,7]])\n",
    "array_4 = np.full((2,4),5)\n",
    "\n",
    "print(f\"array_1 shape: {array_3}\")\n",
    "print(f\"array_2 shape: {array_4}\")\n",
    "\n",
    "print(array_3 + array_4)\n",
    "#operands could not be broadcast together with shapes (2,3) (2,4)\n",
    "print(array_3 + array_4)\n",
    "#operands could not be broadcast together with shapes (2,3) (2,4)\n",
    "print(array_3 + array_4)\n",
    "#operands could not be broadcast together with shapes (2,3) (2,4)"
   ]
  },
  {
   "cell_type": "markdown",
   "metadata": {},
   "source": [
    "## Task 6a: Math/Stats Aggregate Functions\n",
    "\n",
    "In the practice notebook, perform the following.\n",
    "\n",
    "+ Create three to five arrays\n",
    "+ Experiment with each of the aggregation functions: `sum`, `minimum`, `maximum`, `cumsum`, `mean`, `np.corrcoef`, `np.std`, `np.var`. \n",
    "+ For each function call, add a comment line above it that describes what it does.  \n",
    "```\n"
   ]
  },
  {
   "cell_type": "code",
   "execution_count": 13,
   "metadata": {},
   "outputs": [
    {
     "name": "stdout",
     "output_type": "stream",
     "text": [
      "21\n",
      "[1 2 3]\n",
      "[4 5 6]\n",
      "[ 1  3  6 10 15 21]\n",
      "3.5\n",
      "[[1. 1.]\n",
      " [1. 1.]]\n",
      "1.707825127659933\n",
      "2.9166666666666665\n",
      "[[1 2 3]\n",
      " [4 5 6]]\n"
     ]
    }
   ],
   "source": [
    "array = np.array([[1,2,3],[4,5,6]])\n",
    "\n",
    "#print the sum of the two array and return an interger\n",
    "print(np.sum(array))\n",
    "#print the smallest list \n",
    "print(np.minimum([1,2,3],[4,5,6]))\n",
    "#print the biggest list\n",
    "print(np.maximum([1,2,3],[4,5,6]))\n",
    "#print the cummulative sum of the two array starting from the smallest \n",
    "print(np.cumsum(array))\n",
    "#print the mean of the two array\n",
    "print(np.mean(array))\n",
    "#print the correlation coefficients betwwen the 2 array\n",
    "print(np.corrcoef(array))\n",
    "#compute the standard deviation along the specified axis\n",
    "print(np.std(array))\n",
    "compute the variance along the specified axis \n",
    "print(np.var(array))\n",
    "print(array)"
   ]
  },
  {
   "cell_type": "markdown",
   "metadata": {},
   "source": [
    "## Task 6b: Logical Aggregate Functions\n",
    "\n",
    "In the practice notebook, perform the following.\n",
    "\n",
    "+ Create two arrays containing boolean values.\n",
    "+ Experiment with each of the aggregation functions: `logical_and`, `logical_or`, `logical_not`. \n",
    "+ For each function call, add a comment line above it that describes what it does.  \n",
    "```"
   ]
  },
  {
   "cell_type": "code",
   "execution_count": 18,
   "metadata": {},
   "outputs": [
    {
     "name": "stdout",
     "output_type": "stream",
     "text": [
      "[ True False False False False]\n",
      "[ True  True  True  True False]\n",
      "[False  True False False  True]\n"
     ]
    }
   ],
   "source": [
    "array = (True, False, True, True, False)\n",
    "array_2 = (True, True, False, False, False)\n",
    "\n",
    "#return the logical and of each array\n",
    "print(np.logical_and(array, array_2))\n",
    "#return the logical or between each array\n",
    "print(np.logical_or(array, array_2))\n",
    "#return the opposite value of the named array\n",
    "print(np.logical_not(array))"
   ]
  },
  {
   "cell_type": "code",
   "execution_count": null,
   "metadata": {},
   "outputs": [],
   "source": []
  }
 ],
 "metadata": {
  "kernelspec": {
   "display_name": "Python 3",
   "language": "python",
   "name": "python3"
  },
  "language_info": {
   "codemirror_mode": {
    "name": "ipython",
    "version": 3
   },
   "file_extension": ".py",
   "mimetype": "text/x-python",
   "name": "python",
   "nbconvert_exporter": "python",
   "pygments_lexer": "ipython3",
   "version": "3.7.4"
  }
 },
 "nbformat": 4,
 "nbformat_minor": 4
}
